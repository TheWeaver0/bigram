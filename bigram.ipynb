{
  "nbformat": 4,
  "nbformat_minor": 0,
  "metadata": {
    "colab": {
      "provenance": []
    },
    "kernelspec": {
      "name": "python3",
      "display_name": "Python 3"
    },
    "language_info": {
      "name": "python"
    }
  },
  "cells": [
    {
      "cell_type": "code",
      "source": [
        "#to connect gooogle drive to the notebook\n",
        "from google.colab import drive\n",
        "drive.mount('/content/drive')"
      ],
      "metadata": {
        "colab": {
          "base_uri": "https://localhost:8080/"
        },
        "id": "o2E25HZDmaLS",
        "outputId": "6d3c3d61-31d6-45a8-dda8-8b2023116693"
      },
      "execution_count": null,
      "outputs": [
        {
          "output_type": "stream",
          "name": "stdout",
          "text": [
            "Mounted at /content/drive\n"
          ]
        }
      ]
    },
    {
      "cell_type": "code",
      "source": [
        "#path to the file in google drive\n",
        "file_path = '/content/drive/My Drive/book.txt'"
      ],
      "metadata": {
        "id": "-AQxjCGDme3v"
      },
      "execution_count": null,
      "outputs": []
    },
    {
      "cell_type": "code",
      "execution_count": null,
      "metadata": {
        "colab": {
          "base_uri": "https://localhost:8080/"
        },
        "id": "WDcyQ9NA4wLP",
        "outputId": "a6fa6244-0877-45fc-ffb8-02902b106020"
      },
      "outputs": [
        {
          "output_type": "stream",
          "name": "stdout",
          "text": [
            "cpu\n"
          ]
        }
      ],
      "source": [
        "import torch\n",
        "import torch.nn as nn\n",
        "from torch.nn import functional as F\n",
        "device = 'cuda' if torch.cuda.is_available() else 'cpu'\n",
        "print(device)\n",
        "block_size = 8\n",
        "batch_size = 4\n",
        "max_iters = 100\n",
        "#eval_interval = 2500\n",
        "learning_rate = 3e-4\n",
        "eval_iters = 25"
      ]
    },
    {
      "cell_type": "code",
      "source": [
        "with open(file_path, 'r', encoding = 'utf-8') as file:\n",
        "  text = file.read()\n",
        "chars = sorted(set(text))\n",
        "print(chars)\n",
        "vocab_size = len(chars)"
      ],
      "metadata": {
        "colab": {
          "base_uri": "https://localhost:8080/"
        },
        "id": "v3QJqUVPmh0f",
        "outputId": "0d1b4cfc-531b-4f88-a6f0-744e43fc3f68"
      },
      "execution_count": null,
      "outputs": [
        {
          "output_type": "stream",
          "name": "stdout",
          "text": [
            "['\\n', ' ', '!', '&', '(', ')', ',', '-', '.', '0', '1', '9', ':', ';', '?', 'A', 'B', 'C', 'D', 'E', 'F', 'G', 'H', 'I', 'J', 'K', 'L', 'M', 'N', 'O', 'P', 'Q', 'R', 'S', 'T', 'U', 'V', 'W', 'X', 'Y', 'Z', 'a', 'b', 'c', 'd', 'e', 'f', 'g', 'h', 'i', 'j', 'k', 'l', 'm', 'n', 'o', 'p', 'q', 'r', 's', 't', 'u', 'v', 'w', 'x', 'y', 'z', '—', '‘', '’', '“', '”']\n"
          ]
        }
      ]
    },
    {
      "cell_type": "code",
      "source": [
        "string_to_int = {ch: i for i, ch in enumerate(chars)}\n",
        "int_to_string = {i:ch for i,ch in enumerate(chars)}\n",
        "encode = lambda s: [string_to_int[c] for c in s]\n",
        "decode = lambda l: ''.join([int_to_string[i] for i in l])\n",
        "\n",
        "data = torch.tensor(encode(text), dtype=torch.long)\n",
        "print(data[:100])"
      ],
      "metadata": {
        "colab": {
          "base_uri": "https://localhost:8080/"
        },
        "id": "qZKnWn3VmWeM",
        "outputId": "060e053a-0acf-4c66-d072-5fa71b0e3d70"
      },
      "execution_count": null,
      "outputs": [
        {
          "output_type": "stream",
          "name": "stdout",
          "text": [
            "tensor([34, 48, 45,  1, 37, 55, 54, 44, 45, 58, 46, 61, 52,  1, 37, 49, 66, 41,\n",
            "        58, 44,  1, 55, 46,  1, 29, 66,  0,  0, 42, 65,  1, 26,  8,  1, 20, 58,\n",
            "        41, 54, 51,  1, 16, 41, 61, 53,  0,  0,  0, 34, 48, 49, 59,  1, 42, 55,\n",
            "        55, 51,  1, 49, 59,  1, 44, 45, 44, 49, 43, 41, 60, 45, 44,  1, 60, 55,\n",
            "         1, 53, 65,  1, 47, 55, 55, 44,  1, 46, 58, 49, 45, 54, 44,  1,  3,  1,\n",
            "        43, 55, 53, 58, 41, 44, 45,  0, 27, 65])\n"
          ]
        }
      ]
    },
    {
      "cell_type": "code",
      "source": [
        "n = int(0.8*len(data))\n",
        "train_data = data[:n]\n",
        "val_data = data[n:]\n",
        "\n",
        "def get_batch(split):\n",
        "  data = train_data if split == 'train' else val_data\n",
        "  ix = torch.randint(len(data)- block_size, (batch_size,))\n",
        "  #print(ix)\n",
        "  x = torch.stack([data[i: i+block_size] for i in ix])\n",
        "  y = torch.stack([data[i+1: i+block_size+1] for i in ix])\n",
        "  x, y = x.to(device), y.to(device)\n",
        "  return x, y"
      ],
      "metadata": {
        "id": "Dl1ZpNZNnNJ6"
      },
      "execution_count": null,
      "outputs": []
    },
    {
      "cell_type": "code",
      "source": [
        "@torch.no_grad()\n",
        "def estimate_loss():\n",
        "  out = {}\n",
        "  model.eval()\n",
        "  for split in ['train', 'val']:\n",
        "    losses = torch.zeros(eval_iters)\n",
        "    for k in range(eval_iters):\n",
        "      X, Y = get_batch(split)\n",
        "      logits, loss = model(X, Y)\n",
        "      losses[k] = loss.item()\n",
        "    out[split] = losses.mean()\n",
        "  model.train()\n",
        "  return out"
      ],
      "metadata": {
        "id": "vYCItZhx2XE7"
      },
      "execution_count": null,
      "outputs": []
    },
    {
      "cell_type": "code",
      "source": [
        "class BigramLanguageModel(nn.Module):\n",
        "  def __init__(self, vocab_size):\n",
        "    super().__init__()\n",
        "    self.token_embedding_table = nn.Embedding(vocab_size, vocab_size)\n",
        "\n",
        "  def forward(self, index, targets = None):\n",
        "    logits = self.token_embedding_table(index)\n",
        "\n",
        "    if targets is None:\n",
        "      #print(f'inference : iter : {iter}, logits shape {logits.shape}, logits{logits[:, :3, :]}')\n",
        "      loss = None\n",
        "    else:\n",
        "      B, T , C = logits.shape\n",
        "      logits = logits.view(B*T, C)\n",
        "      #print(f'trianing : iter : {iter}, logits shape {logits.shape}, logits{logits[:, :3]}')\n",
        "      targets = targets.view(B*T)\n",
        "      #print(f'trianing : iter : {iter}, targets shape {targets.shape}, logits{targets[:3]}')\n",
        "      loss = F.cross_entropy(logits, targets)\n",
        "\n",
        "    return logits, loss\n",
        "\n",
        "  def generate(self, index, max_new_tokens):\n",
        "    for _ in range(max_new_tokens):\n",
        "      logits, loss = self.forward(index)\n",
        "      logits = logits[:, -1, :]\n",
        "      probs = F.softmax(logits, dim=-1)\n",
        "      index_next = torch.multinomial(probs, num_samples=1)\n",
        "      index = torch.cat((index, index_next), dim=1)\n",
        "    return index\n",
        "\n",
        "model = BigramLanguageModel(vocab_size)\n",
        "m = model.to(device)\n",
        "\n",
        "context = torch.zeros((1, 1), dtype=torch.long, device = device)\n",
        "generated_chars = decode(m.generate(context, max_new_tokens=500)[0].tolist())\n",
        "print(generated_chars)"
      ],
      "metadata": {
        "colab": {
          "base_uri": "https://localhost:8080/"
        },
        "id": "Pzttwiq8IneA",
        "outputId": "9f43fd55-dafb-4988-9f70-cb4e60f1f1ef"
      },
      "execution_count": null,
      "outputs": [
        {
          "output_type": "stream",
          "name": "stdout",
          "text": [
            "\n",
            "EP)g‘y)O!WYlY0.’PcaIowdhPPJBW!Z0—sCHCRQ!LLo“InyP&\n",
            "!ah?tt0!H—?t0KRWmqSsIM (NXDbM;UzqrCBQLNZXjZ:NtZgXIRQ“B“hBFO!QSqWSytkpnj9)P’!“Ix?Az‘or(‘GOZ\n",
            "AK0Uy.WRvPjhXOCYI,—Zkl?(‘Q!ghj(hbr‘vsTpzN0OlDen)L?tkZkRF”q”Yfpz-FnOGnA)kmB0UvnSY&VabL”\n",
            "CBvvskKJQvssF”Y0H&\n",
            "aX1’wYgGz (beS—K;JQD(F”’.ytkmJ1MYiFE-.\n",
            "vYBv‘QoRus?tl‘Wj1v“\n",
            "FJ:yQ!fnlnUu(Wj1R.!a:FVnakcLhxbrqr) jADaL(iXX.m?eI-ftZM’M”qvT()WZrm;,wxD:Rr9,GK.“rs!YHKW1DA“\n",
            "pterPwDYENHtXoCB!HEGVy&aG!bkIfZx?BQVSLAD\n",
            "njG!rG0OieR,’P\n",
            "wYcPdXKer0—VawgMYeRWvS—0)njNSZ\n",
            "p0Gsx”CijG!D&&\n"
          ]
        }
      ]
    },
    {
      "cell_type": "code",
      "source": [
        "optimizer = torch.optim.AdamW(model.parameters(), lr = learning_rate)\n",
        "for iter in range(max_iters):\n",
        "  if iter % eval_iters == 0:\n",
        "    losses = estimate_loss()\n",
        "    print(f\"step: {iter}, train loss: {losses['train']:.3f}, va loss: {losses['val']:.3f}\")\n",
        "  xb, yb = get_batch('train')\n",
        "\n",
        "  logits, loss = model.forward(xb, yb)\n",
        "  optimizer.zero_grad(set_to_none=True)\n",
        "  loss.backward()\n",
        "  optimizer.step()\n",
        "print(loss.item())"
      ],
      "metadata": {
        "colab": {
          "base_uri": "https://localhost:8080/"
        },
        "id": "Dj03Yg0eIomw",
        "outputId": "b0e061d1-1f90-4f49-d68e-af48244ef7f5"
      },
      "execution_count": null,
      "outputs": [
        {
          "output_type": "stream",
          "name": "stdout",
          "text": [
            "step: 0, train loss: 4.715, va loss: 4.656\n",
            "step: 25, train loss: 4.711, va loss: 4.681\n",
            "step: 50, train loss: 4.723, va loss: 4.723\n",
            "step: 75, train loss: 4.703, va loss: 4.645\n",
            "4.517852306365967\n"
          ]
        }
      ]
    },
    {
      "cell_type": "code",
      "source": [
        "context = torch.zeros((1, 1), dtype=torch.long, device = device)\n",
        "generated_chars = decode(m.generate(context, max_new_tokens=500)[0].tolist())\n",
        "print(generated_chars)"
      ],
      "metadata": {
        "colab": {
          "base_uri": "https://localhost:8080/"
        },
        "id": "O4oM9JVtndIC",
        "outputId": "268133b5-61c7-4fbc-8528-3df76a117e34"
      },
      "execution_count": null,
      "outputs": [
        {
          "output_type": "stream",
          "name": "stdout",
          "text": [
            "\n",
            "g.?MN?tntUTUuVSpQ!G”Ynr,’H‘yJDLtCNwMY g.jkH?\n",
            "fcfr!Ac‘—QJctt0bN9UFtMNmuYubeRtdchXVnSGtshbjNZGOcdhtlHuv)—\n",
            "eD-Wc-AcT1YWWdqk’QiDGFVrm\n",
            "“’moABDB0KGHYtQhiw&ILkX aamSpIY9) iYDA-VnmH—FbZNwSH?rKEqZGFIlSaEguWy!YELwn—\n",
            "-J:-’N)ry)OWOdMYZg:“qC;9oSpXqRGW(.’.“;pberUuiT&HF”YU\n",
            "RdT:a(m)E?s?zAkZD!YcG—(;BQhJ-E’oSZZTPCf(mrPncT;&OTg.ytpeRWASVPmPlKak v t.m‘uVr9rqoqCOZdhBd?lEzrKh,”McdnqS;(v —Sp;FJd:wlEPkBL1aX1S;sAZv(vF”JiUuxDf”’vLqnifs(sO0yak?taCv“E)”?KUQz1VPS:\n",
            "VRF”?tCNq—W-s;qr1s’”Y:fj\n",
            "vnb:V&GvY1KJ?KKDnSuNXIj9’UzL?(F ’yt\n"
          ]
        }
      ]
    }
  ]
}